import tensorflow as tf

import pathlib
import os
import matplotlib.pyplot as plt
import pandas as pd
import numpy as np

np.set_printoptions(precision=4)

path = '/home/ghostlini/arm_testing_ws/src/panda_simulation/data_for_nn'

target_root = pathlib.Path(path)
print(target_root)
for item in target_root.glob("*"):
  print(item.name)

list_ds = tf.data.Dataset.list_files(str(target_root/'*/*'), shuffle=False)

for f in list_ds.take(5):
  print(f.numpy())

def process_path(file_path):
  label = tf.strings.split(file_path, os.sep)[-2]
  return tf.io.read_file(file_path), label

labeled_ds = list_ds.map(process_path)


for image_raw, label_text in labeled_ds.take(2):
  print(repr(image_raw.numpy()[:100]))
  print()
  print(label_text.numpy())

#batched_ds = labeled_ds.batch(2)
#for batch in batched_ds.take(4):
#  print([arr.numpy() for arr in batch])

