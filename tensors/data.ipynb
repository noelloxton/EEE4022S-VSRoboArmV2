import tensorflow as tf

import pathlib
import os
import matplotlib.pyplot as plt
import pandas as pd
import numpy as np

np.set_printoptions(precision=4)

flowers_root = tf.keras.utils.get_file(
    'flower_photos',
    'https://storage.googleapis.com/download.tensorflow.org/example_images/flower_photos.tgz',
    untar=True)
flowers_root = pathlib.Path(flowers_root)
print(flowers_root)
for item in flowers_root.glob("*"):
  print(item.name)

list_ds = tf.data.Dataset.list_files(str(flowers_root/'*/*'))#,shuffle=False)

for f in list_ds.take(5):
  print(f.numpy())

# Reads an image from a file, decodes it into a dense tensor, and resizes it
# to a fixed shape.
def parse_image(filename):
  parts = tf.strings.split(filename, os.sep)
  label = parts[-2]

  image = tf.io.read_file(filename)
  image = tf.image.decode_jpeg(image)
  image = tf.image.convert_image_dtype(image, tf.float32)
  image = tf.image.resize(image, [128, 128])
  return image, label

file_path = next(iter(list_ds))
image, label = parse_image(file_path)

def show(image, label):
  plt.figure()
  plt.imshow(image)
  plt.title(label.numpy().decode('utf-8'))
  plt.axis('off')
  plt.show()

show(image, label)

images_ds = list_ds.map(parse_image)

for image, label in images_ds.take(2):
  show(image, label)

#train_ds = images_ds.batch(64)

#print(train_ds)

def process_path(file_path):
  #print(tf.get_static_value(file_path))
  label = tf.strings.split(file_path, os.sep)[-2]
  #print(tf.get_static_value(label))
  return tf.io.read_file(file_path), label

labeled_ds = list_ds.map(process_path)


for image_raw, label_text in labeled_ds.take(2):
  print(repr(image_raw.numpy()[:100]))
  print()
  print(label_text.numpy())

train_ds = labeled_ds.batch(64)
print(train_ds)
