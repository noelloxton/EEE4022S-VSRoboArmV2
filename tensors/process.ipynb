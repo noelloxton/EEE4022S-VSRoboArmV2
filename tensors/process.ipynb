import tensorflow as tf

import pathlib
import os
import matplotlib.pyplot as plt
import pandas as pd
import numpy as np
import skimage.transform as sktransform

np.set_printoptions(precision=4)

path = '/home/ghostlini/arm_testing_ws/src/panda_simulation/data_for_nn'

target_root = pathlib.Path(path)
print(target_root)
for item in target_root.glob("*"):
  print(item.name)

list_ds = tf.data.Dataset.list_files(str(target_root/'*/*'))#, shuffle=False)

for f in list_ds.take(5):
  print(f.numpy())

# Reads an image from a file, decodes it into a dense tensor, and resizes it
# to a fixed shape.
def parse_image(filename):
  parts = tf.strings.split(filename, os.sep)
  label = parts[-2]

  image = tf.io.read_file(filename)
  image = tf.image.decode_jpeg(image,channels=3)
  image = tf.image.convert_image_dtype(image, tf.float32)
  image = tf.image.resize(image, [800, 800])
  #image = tf.reshape(image, (1, 800, 800, 1))
  #image = sktransform.resize(image, (800, 800, 3))
  return image, label

file_path = next(iter(list_ds))
#image, label = parse_image(file_path)

def show(image, label):
  plt.figure()
  plt.imshow(image)
  plt.title(label.numpy().decode('utf-8'))
  plt.axis('off')
  plt.show()

#show(image, label)

images_ds = list_ds.map(parse_image)

for image, label in images_ds.take(2):
  show(image, label)

print(images_ds)
#images_ds = np.reshape(images_ds,(800,800,3))

